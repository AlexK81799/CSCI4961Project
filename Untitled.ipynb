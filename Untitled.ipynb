{
 "cells": [
  {
   "cell_type": "code",
   "execution_count": 2,
   "metadata": {},
   "outputs": [
    {
     "ename": "ImportError",
     "evalue": "No module named 'robustness'",
     "output_type": "error",
     "traceback": [
      "\u001b[0;31m---------------------------------------------------------------------------\u001b[0m",
      "\u001b[0;31mImportError\u001b[0m                               Traceback (most recent call last)",
      "\u001b[0;32m<ipython-input-2-6692a8515d23>\u001b[0m in \u001b[0;36m<module>\u001b[0;34m\u001b[0m\n\u001b[1;32m      1\u001b[0m \u001b[0;32mimport\u001b[0m \u001b[0mtorch\u001b[0m \u001b[0;32mas\u001b[0m \u001b[0mch\u001b[0m\u001b[0;34m\u001b[0m\u001b[0m\n\u001b[0;32m----> 2\u001b[0;31m \u001b[0;32mfrom\u001b[0m \u001b[0mrobustness\u001b[0m\u001b[0;34m.\u001b[0m\u001b[0mdatasets\u001b[0m \u001b[0;32mimport\u001b[0m \u001b[0mCIFAR\u001b[0m\u001b[0;34m\u001b[0m\u001b[0m\n\u001b[0m\u001b[1;32m      3\u001b[0m \u001b[0;32mfrom\u001b[0m \u001b[0mrobustness\u001b[0m\u001b[0;34m.\u001b[0m\u001b[0mmodel_utils\u001b[0m \u001b[0;32mimport\u001b[0m \u001b[0mmake_and_restore_model\u001b[0m\u001b[0;34m\u001b[0m\u001b[0m\n",
      "\u001b[0;31mImportError\u001b[0m: No module named 'robustness'"
     ]
    }
   ],
   "source": [
    "import torch as ch\n",
    "from robustness.datasets import CIFAR\n",
    "from robustness.model_utils import make_and_restore_model\n"
   ]
  },
  {
   "cell_type": "code",
   "execution_count": 1,
   "metadata": {},
   "outputs": [
    {
     "ename": "SyntaxError",
     "evalue": "invalid syntax (<ipython-input-1-5775e1deb681>, line 11)",
     "output_type": "error",
     "traceback": [
      "\u001b[0;36m  File \u001b[0;32m\"<ipython-input-1-5775e1deb681>\"\u001b[0;36m, line \u001b[0;32m11\u001b[0m\n\u001b[0;31m    'custom_loss': None # Use default cross-entropy loss\u001b[0m\n\u001b[0m                ^\u001b[0m\n\u001b[0;31mSyntaxError\u001b[0m\u001b[0;31m:\u001b[0m invalid syntax\n"
     ]
    }
   ],
   "source": [
    "ds = CIFAR('/path/to/cifar')\n",
    "model, _ = make_and_restore_model(arch='resnet50', dataset=ds,\n",
    "             resume_path='/path/to/model', state_dict_path='model')\n",
    "model.eval()\n",
    "attack_kwargs = {\n",
    "   'constraint': 'inf', # L-inf PGD\n",
    "   'eps': 0.05, # Epsilon constraint (L-inf norm)\n",
    "   'step_size': 0.01, # Learning rate for PGD\n",
    "   'iterations': 100, # Number of PGD steps\n",
    "   'targeted': True # Targeted attack\n",
    "   'custom_loss': None # Use default cross-entropy loss\n",
    "}\n",
    "\n",
    "_, test_loader = ds.make_loaders(workers=0, batch_size=10)\n",
    "im, label = next(iter(test_loader))\n",
    "target_label = (label + ch.randint_like(label, high=9)) % 10\n",
    "adv_out, adv_im = model(im, target_label, make_adv, **attack_kwargs)"
   ]
  },
  {
   "cell_type": "code",
   "execution_count": null,
   "metadata": {},
   "outputs": [],
   "source": []
  }
 ],
 "metadata": {
  "kernelspec": {
   "display_name": "Python 3",
   "language": "python",
   "name": "python3"
  },
  "language_info": {
   "codemirror_mode": {
    "name": "ipython",
    "version": 3
   },
   "file_extension": ".py",
   "mimetype": "text/x-python",
   "name": "python",
   "nbconvert_exporter": "python",
   "pygments_lexer": "ipython3",
   "version": "3.5.2"
  }
 },
 "nbformat": 4,
 "nbformat_minor": 4
}
