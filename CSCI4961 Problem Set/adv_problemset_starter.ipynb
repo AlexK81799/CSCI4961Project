{
 "cells": [
  {
   "cell_type": "code",
   "execution_count": 1,
   "metadata": {
    "id": "5fxt7Jeubh0h"
   },
   "outputs": [],
   "source": [
    "\n",
    "import tensorflow as tf\n",
    "import keras\n",
    "from keras import layers\n",
    "from keras.datasets import cifar10\n",
    "import numpy as np\n",
    "import matplotlib.pyplot as plt"
   ]
  },
  {
   "cell_type": "code",
   "execution_count": 41,
   "metadata": {
    "id": "VJ1-rWDubjvC"
   },
   "outputs": [
    {
     "name": "stdout",
     "output_type": "stream",
     "text": [
      "Model: \"sequential_4\"\n",
      "_________________________________________________________________\n",
      "Layer (type)                 Output Shape              Param #   \n",
      "=================================================================\n",
      "conv2d_7 (Conv2D)            (None, 32, 32, 32)        896       \n",
      "_________________________________________________________________\n",
      "conv2d_8 (Conv2D)            (None, 32, 32, 32)        9248      \n",
      "_________________________________________________________________\n",
      "max_pooling2d_5 (MaxPooling2 (None, 16, 16, 32)        0         \n",
      "_________________________________________________________________\n",
      "conv2d_9 (Conv2D)            (None, 16, 16, 64)        18496     \n",
      "_________________________________________________________________\n",
      "conv2d_10 (Conv2D)           (None, 16, 16, 64)        36928     \n",
      "_________________________________________________________________\n",
      "max_pooling2d_6 (MaxPooling2 (None, 8, 8, 64)          0         \n",
      "_________________________________________________________________\n",
      "flatten_5 (Flatten)          (None, 4096)              0         \n",
      "_________________________________________________________________\n",
      "dropout_3 (Dropout)          (None, 4096)              0         \n",
      "_________________________________________________________________\n",
      "dense_7 (Dense)              (None, 128)               524416    \n",
      "_________________________________________________________________\n",
      "dense_8 (Dense)              (None, 10)                1290      \n",
      "=================================================================\n",
      "Total params: 591,274\n",
      "Trainable params: 591,274\n",
      "Non-trainable params: 0\n",
      "_________________________________________________________________\n"
     ]
    }
   ],
   "source": [
    "\n",
    "# #define the model\n",
    "model = keras.Sequential([\n",
    "    keras.layers.Conv2D(filters=32,kernel_size=3, padding=\"same\", activation=\"relu\", input_shape=[32,32,3]),\n",
    "    keras.layers.Conv2D(filters=32,kernel_size=3,padding=\"same\", activation=\"relu\"),\n",
    "    keras.layers.MaxPool2D(pool_size=2,strides=2, padding=\"valid\"),\n",
    "    keras.layers.Conv2D(filters=64,kernel_size=3,padding=\"same\", activation=\"relu\"),\n",
    "    keras.layers.Conv2D(filters=64,kernel_size=3,padding=\"same\", activation=\"relu\"),\n",
    "    keras.layers.MaxPool2D(pool_size=2,strides=2,padding='valid'),\n",
    "    keras.layers.Flatten(),\n",
    "    keras.layers.Dropout(0.5,noise_shape=None,seed=None),\n",
    "    keras.layers.Dense(units= 128,activation=\"relu\"),\n",
    "    keras.layers.Dense(units=10,activation='softmax')\n",
    "])\n",
    "\n",
    "\n",
    "model.summary()\n",
    "\n"
   ]
  },
  {
   "cell_type": "code",
   "execution_count": 43,
   "metadata": {
    "id": "iuGzt2Iub6P5"
   },
   "outputs": [],
   "source": [
    "# # compile the keras model\n",
    "model.compile(optimizer='Adam',\n",
    "              loss=\"sparse_categorical_crossentropy\",\n",
    "              metrics=[\"sparse_categorical_accuracy\"])\n",
    "\n"
   ]
  },
  {
   "cell_type": "code",
   "execution_count": 44,
   "metadata": {
    "colab": {
     "base_uri": "https://localhost:8080/"
    },
    "id": "_cSPwptbcSV4",
    "outputId": "85793140-f4f6-403d-8da9-c1cb4dae495f"
   },
   "outputs": [
    {
     "name": "stdout",
     "output_type": "stream",
     "text": [
      "Data shapes (10000, 32, 32, 3) (10000, 1) (50000, 32, 32, 3) (50000, 1)\n"
     ]
    }
   ],
   "source": [
    "#Extract the cifar10 images and labels\n",
    "(x_train, y_train), (x_test, y_test) = cifar10.load_data()\n",
    "\n",
    "img_rows, img_cols, channels = 32, 32, 3\n",
    "num_classes = 10\n",
    "\n",
    "x_train = x_train.astype('float32')\n",
    "x_test = x_test.astype('float32')\n",
    "x_train  /= 255\n",
    "x_test /= 255\n",
    "\n",
    "\n",
    "print(\"Data shapes\", x_test.shape, y_test.shape, x_train.shape, y_train.shape)\n"
   ]
  },
  {
   "cell_type": "code",
   "execution_count": 47,
   "metadata": {
    "colab": {
     "base_uri": "https://localhost:8080/"
    },
    "id": "mOcOkc4McUOQ",
    "outputId": "56acc116-8450-4579-a18d-816a122341a8"
   },
   "outputs": [
    {
     "name": "stdout",
     "output_type": "stream",
     "text": [
      "Epoch 1/5\n",
      "1563/1563 [==============================] - 126s 81ms/step - loss: 0.6622 - sparse_categorical_accuracy: 0.7656\n",
      "Epoch 2/5\n",
      "1563/1563 [==============================] - 128s 82ms/step - loss: 0.6045 - sparse_categorical_accuracy: 0.7838\n",
      "Epoch 3/5\n",
      "1563/1563 [==============================] - 127s 81ms/step - loss: 0.5645 - sparse_categorical_accuracy: 0.8014\n",
      "Epoch 4/5\n",
      "1563/1563 [==============================] - 127s 82ms/step - loss: 0.5290 - sparse_categorical_accuracy: 0.8139\n",
      "Epoch 5/5\n",
      "1563/1563 [==============================] - 127s 82ms/step - loss: 0.4943 - sparse_categorical_accuracy: 0.8242\n",
      "1563/1563 - 28s - loss: 0.3589 - sparse_categorical_accuracy: 0.8802\n",
      "313/313 - 5s - loss: 0.6989 - sparse_categorical_accuracy: 0.7663\n",
      "\n",
      "Train accuracy: 0.8801800012588501\n",
      "\n",
      "Test accuracy: 0.7663000226020813\n"
     ]
    }
   ],
   "source": [
    "# fit the keras model on the dataset\n",
    "model.fit(x_train, y_train,epochs=5)\n",
    "\n",
    "# evaluate the keras model\n",
    "train_loss, train_acc = model.evaluate(x_train,  y_train, verbose=2)\n",
    "# evaluate the keras model\n",
    "test_loss, test_acc = model.evaluate(x_test,  y_test, verbose=2)\n",
    "\n",
    "print('\\nTrain accuracy:', train_acc)\n",
    "print('\\nTest accuracy:', test_acc)"
   ]
  },
  {
   "cell_type": "code",
   "execution_count": 48,
   "metadata": {
    "id": "JpU15vXrgjb_"
   },
   "outputs": [],
   "source": [
    "\n",
    "test_predictions = model.predict(x_test)\n",
    "train_predictions = model.predict(x_train)"
   ]
  },
  {
   "cell_type": "code",
   "execution_count": 1,
   "metadata": {
    "colab": {
     "base_uri": "https://localhost:8080/",
     "height": 295
    },
    "id": "yA7KKHQ9gBnG",
    "outputId": "f7ec45b0-4790-4dc2-b535-243bdebc4c55"
   },
   "outputs": [
    {
     "ename": "NameError",
     "evalue": "name 'x_test' is not defined",
     "output_type": "error",
     "traceback": [
      "\u001b[0;31m---------------------------------------------------------------------------\u001b[0m",
      "\u001b[0;31mNameError\u001b[0m                                 Traceback (most recent call last)",
      "\u001b[0;32m<ipython-input-1-0edd17029305>\u001b[0m in \u001b[0;36m<module>\u001b[0;34m\u001b[0m\n\u001b[1;32m     34\u001b[0m \u001b[0;34m\u001b[0m\u001b[0m\n\u001b[1;32m     35\u001b[0m         \u001b[0mplt\u001b[0m\u001b[0;34m.\u001b[0m\u001b[0mshow\u001b[0m\u001b[0;34m(\u001b[0m\u001b[0;34m)\u001b[0m\u001b[0;34m\u001b[0m\u001b[0m\n\u001b[0;32m---> 36\u001b[0;31m \u001b[0mdisplay_images\u001b[0m\u001b[0;34m(\u001b[0m\u001b[0mx_test\u001b[0m\u001b[0;34m,\u001b[0m \u001b[0mtest_predictions\u001b[0m\u001b[0;34m,\u001b[0m \u001b[0my_test\u001b[0m\u001b[0;34m)\u001b[0m\u001b[0;34m\u001b[0m\u001b[0m\n\u001b[0m\u001b[1;32m     37\u001b[0m \u001b[0mdisplay_images\u001b[0m\u001b[0;34m(\u001b[0m\u001b[0mx_train\u001b[0m\u001b[0;34m,\u001b[0m \u001b[0mtrain_predictions\u001b[0m\u001b[0;34m,\u001b[0m \u001b[0my_train\u001b[0m\u001b[0;34m)\u001b[0m\u001b[0;34m\u001b[0m\u001b[0m\n",
      "\u001b[0;31mNameError\u001b[0m: name 'x_test' is not defined"
     ]
    }
   ],
   "source": [
    "#define the cifar10 class names\n",
    "class_names = ['airplane','automobile','bird','cat','deer','dog','frog','horse','ship','truck']\n",
    "\n",
    "\n",
    "def display_images(images, predicted_labels, true_labels):\n",
    "    '''\n",
    "    Display the images in an orderly way that associates it with its predicted and true labels.\n",
    "    :images: the input images\n",
    "    :predicted_labels: the predicted labels from the model\n",
    "    :true_labels: the correct labels\n",
    "    '''\n",
    "    n = 10  # How many digits we will display\n",
    "    plt.figure()\n",
    "    for i in range(n):\n",
    "      # Display original\n",
    "        ax = plt.subplot(2, n, i + 1)\n",
    "        plt.imshow(images[i].reshape(32, 32,3))\n",
    "        plt.gray()\n",
    "        ax.get_yaxis().set_visible(False)\n",
    "\n",
    "        predicted_label = np.argmax(predicted_labels[i])\n",
    "\n",
    "        if predicted_label == true_labels[i].item():\n",
    "            color = 'blue'\n",
    "        else:\n",
    "            color = 'red'\n",
    "        \n",
    "\n",
    "        plt.xlabel(\"{} {:2.0f}% ({})\".format(class_names[predicted_label],\n",
    "                                        100*np.max(predicted_labels[i]),\n",
    "                                        class_names[true_labels[i].item()]),\n",
    "                                        color=color)\n",
    "\n",
    "\n",
    "        plt.show()\n",
    "display_images(x_test, test_predictions, y_test)\n",
    "display_images(x_train, train_predictions, y_train)"
   ]
  },
  {
   "cell_type": "code",
   "execution_count": null,
   "metadata": {},
   "outputs": [],
   "source": []
  }
 ],
 "metadata": {
  "colab": {
   "collapsed_sections": [],
   "name": "problemset_MLProject.ipynb",
   "provenance": []
  },
  "kernelspec": {
   "display_name": "Python 3",
   "language": "python",
   "name": "python3"
  },
  "language_info": {
   "codemirror_mode": {
    "name": "ipython",
    "version": 3
   },
   "file_extension": ".py",
   "mimetype": "text/x-python",
   "name": "python",
   "nbconvert_exporter": "python",
   "pygments_lexer": "ipython3",
   "version": "3.5.2"
  }
 },
 "nbformat": 4,
 "nbformat_minor": 2
}
