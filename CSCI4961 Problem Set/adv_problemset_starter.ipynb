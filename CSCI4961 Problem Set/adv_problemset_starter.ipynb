{
 "cells": [
  {
   "cell_type": "code",
   "execution_count": 2,
   "metadata": {
    "id": "5fxt7Jeubh0h"
   },
   "outputs": [],
   "source": [
    "\n",
    "import tensorflow as tf\n",
    "import keras\n",
    "from keras import layers\n",
    "from keras.datasets import mnist\n",
    "import numpy as np\n",
    "import matplotlib.pyplot as plt"
   ]
  },
  {
   "cell_type": "code",
   "execution_count": 3,
   "metadata": {
    "id": "VJ1-rWDubjvC"
   },
   "outputs": [],
   "source": [
    "\n",
    "#define the model\n",
    "model = keras.Sequential([\n",
    "    keras.layers.Flatten(input_shape=(28, 28)),\n",
    "    keras.layers.Dense(128, activation='relu'),\n",
    "    keras.layers.Dense(10)\n",
    "])\n"
   ]
  },
  {
   "cell_type": "code",
   "execution_count": 4,
   "metadata": {
    "id": "iuGzt2Iub6P5"
   },
   "outputs": [],
   "source": [
    "# compile the keras model\n",
    "model.compile(optimizer='adam',\n",
    "              loss=keras.losses.SparseCategoricalCrossentropy(from_logits=True),\n",
    "              metrics=['accuracy'])\n",
    "\n"
   ]
  },
  {
   "cell_type": "code",
   "execution_count": 5,
   "metadata": {
    "colab": {
     "base_uri": "https://localhost:8080/"
    },
    "id": "_cSPwptbcSV4",
    "outputId": "85793140-f4f6-403d-8da9-c1cb4dae495f"
   },
   "outputs": [
    {
     "name": "stdout",
     "output_type": "stream",
     "text": [
      "Downloading data from https://storage.googleapis.com/tensorflow/tf-keras-datasets/mnist.npz\n",
      "11493376/11490434 [==============================] - 1s 0us/step\n",
      "Data shapes (10000, 28, 28) (10000,) (60000, 28, 28) (60000,)\n"
     ]
    }
   ],
   "source": [
    "(x_train, y_train), (x_test, y_test) = mnist.load_data()\n",
    "\n",
    "img_rows, img_cols, channels = 28, 28, 1\n",
    "num_classes = 10\n",
    "\n",
    "x_train = x_train / 255\n",
    "x_test = x_test / 255\n",
    "\n",
    "print(\"Data shapes\", x_test.shape, y_test.shape, x_train.shape, y_train.shape)\n"
   ]
  },
  {
   "cell_type": "code",
   "execution_count": 6,
   "metadata": {
    "colab": {
     "base_uri": "https://localhost:8080/"
    },
    "id": "mOcOkc4McUOQ",
    "outputId": "56acc116-8450-4579-a18d-816a122341a8"
   },
   "outputs": [
    {
     "name": "stdout",
     "output_type": "stream",
     "text": [
      "Epoch 1/20\n",
      "1875/1875 [==============================] - 4s 2ms/step - loss: 0.2526 - accuracy: 0.9282 - val_loss: 0.1327 - val_accuracy: 0.9618\n",
      "Epoch 2/20\n",
      "1875/1875 [==============================] - 3s 2ms/step - loss: 0.1101 - accuracy: 0.9672 - val_loss: 0.0944 - val_accuracy: 0.9710\n",
      "Epoch 3/20\n",
      "1875/1875 [==============================] - 3s 2ms/step - loss: 0.0765 - accuracy: 0.9767 - val_loss: 0.0916 - val_accuracy: 0.9727\n",
      "Epoch 4/20\n",
      "1875/1875 [==============================] - 3s 2ms/step - loss: 0.0563 - accuracy: 0.9831 - val_loss: 0.0773 - val_accuracy: 0.9772\n",
      "Epoch 5/20\n",
      "1875/1875 [==============================] - 3s 2ms/step - loss: 0.0444 - accuracy: 0.9856 - val_loss: 0.0742 - val_accuracy: 0.9779\n",
      "Epoch 6/20\n",
      "1875/1875 [==============================] - 3s 2ms/step - loss: 0.0340 - accuracy: 0.9899 - val_loss: 0.0759 - val_accuracy: 0.9773\n",
      "Epoch 7/20\n",
      "1875/1875 [==============================] - 3s 2ms/step - loss: 0.0282 - accuracy: 0.9913 - val_loss: 0.0772 - val_accuracy: 0.9777\n",
      "Epoch 8/20\n",
      "1875/1875 [==============================] - 3s 2ms/step - loss: 0.0223 - accuracy: 0.9931 - val_loss: 0.0806 - val_accuracy: 0.9768\n",
      "Epoch 9/20\n",
      "1875/1875 [==============================] - 3s 2ms/step - loss: 0.0181 - accuracy: 0.9944 - val_loss: 0.0766 - val_accuracy: 0.9801\n",
      "Epoch 10/20\n",
      "1875/1875 [==============================] - 3s 2ms/step - loss: 0.0151 - accuracy: 0.9955 - val_loss: 0.0895 - val_accuracy: 0.9779\n",
      "Epoch 11/20\n",
      "1875/1875 [==============================] - 3s 2ms/step - loss: 0.0144 - accuracy: 0.9958 - val_loss: 0.0833 - val_accuracy: 0.9791\n",
      "Epoch 12/20\n",
      "1875/1875 [==============================] - 4s 2ms/step - loss: 0.0104 - accuracy: 0.9968 - val_loss: 0.0850 - val_accuracy: 0.9779\n",
      "Epoch 13/20\n",
      "1875/1875 [==============================] - 4s 2ms/step - loss: 0.0110 - accuracy: 0.9966 - val_loss: 0.0958 - val_accuracy: 0.9779\n",
      "Epoch 14/20\n",
      "1875/1875 [==============================] - 4s 2ms/step - loss: 0.0081 - accuracy: 0.9974 - val_loss: 0.0945 - val_accuracy: 0.9783\n",
      "Epoch 15/20\n",
      "1875/1875 [==============================] - 4s 2ms/step - loss: 0.0067 - accuracy: 0.9981 - val_loss: 0.0936 - val_accuracy: 0.9780\n",
      "Epoch 16/20\n",
      "1875/1875 [==============================] - 4s 2ms/step - loss: 0.0083 - accuracy: 0.9972 - val_loss: 0.0943 - val_accuracy: 0.9798\n",
      "Epoch 17/20\n",
      "1875/1875 [==============================] - 3s 2ms/step - loss: 0.0062 - accuracy: 0.9980 - val_loss: 0.1188 - val_accuracy: 0.9766\n",
      "Epoch 18/20\n",
      "1875/1875 [==============================] - 3s 2ms/step - loss: 0.0060 - accuracy: 0.9980 - val_loss: 0.0956 - val_accuracy: 0.9800\n",
      "Epoch 19/20\n",
      "1875/1875 [==============================] - 3s 2ms/step - loss: 0.0071 - accuracy: 0.9977 - val_loss: 0.1091 - val_accuracy: 0.9796\n",
      "Epoch 20/20\n",
      "1875/1875 [==============================] - 4s 2ms/step - loss: 0.0038 - accuracy: 0.9989 - val_loss: 0.1447 - val_accuracy: 0.9714\n",
      "1875/1875 - 2s - loss: 0.0219 - accuracy: 0.9928\n",
      "313/313 - 0s - loss: 0.1447 - accuracy: 0.9714\n",
      "\n",
      "Train accuracy: 0.9927666783332825\n",
      "\n",
      "Test accuracy: 0.9714000225067139\n"
     ]
    }
   ],
   "source": [
    "# fit the keras model on the dataset\n",
    "model.fit(x_train, y_train,\n",
    "          batch_size=32,\n",
    "          epochs=20,\n",
    "          validation_data=(x_test, y_test))\n",
    "\n",
    "# evaluate the keras model\n",
    "train_loss, train_acc = model.evaluate(x_train,  y_train, verbose=2)\n",
    "# evaluate the keras model\n",
    "test_loss, test_acc = model.evaluate(x_test,  y_test, verbose=2)\n",
    "\n",
    "print('\\nTrain accuracy:', train_acc)\n",
    "print('\\nTest accuracy:', test_acc)"
   ]
  },
  {
   "cell_type": "code",
   "execution_count": 7,
   "metadata": {
    "id": "JpU15vXrgjb_"
   },
   "outputs": [],
   "source": [
    "\n",
    "test_predictions = model.predict(x_test)\n",
    "train_predictions = model.predict(x_train)"
   ]
  },
  {
   "cell_type": "code",
   "execution_count": 8,
   "metadata": {
    "colab": {
     "base_uri": "https://localhost:8080/",
     "height": 295
    },
    "id": "yA7KKHQ9gBnG",
    "outputId": "f7ec45b0-4790-4dc2-b535-243bdebc4c55"
   },
   "outputs": [
    {
     "data": {
      "image/png": "[encoded data removed]",
      "text/plain": [
       "<Figure size 1440x288 with 10 Axes>"
      ]
     },
     "metadata": {
      "needs_background": "light",
      "tags": []
     },
     "output_type": "display_data"
    },
    {
     "data": {
      "image/png": "[encoded data removed]",
      "text/plain": [
       "<Figure size 1440x288 with 10 Axes>"
      ]
     },
     "metadata": {
      "needs_background": "light",
      "tags": []
     },
     "output_type": "display_data"
    }
   ],
   "source": [
    "class_names = ['Zero','One','Two','Three','Four','Five','Six','Seven','Eight','Nine']\n",
    "\n",
    "def display_images(images, predicted_labels, true_labels):\n",
    "    n = 10  # How many digits we will display\n",
    "    plt.figure(figsize=(20, 4))\n",
    "    for i in range(n):\n",
    "        # Display original\n",
    "        ax = plt.subplot(2, n, i + 1)\n",
    "        plt.imshow(images[i].reshape(28, 28))\n",
    "        plt.gray()\n",
    "        ax.get_yaxis().set_visible(False)\n",
    "\n",
    "        predicted_label = np.argmax(predicted_labels[i])\n",
    "\n",
    "        if predicted_label == true_labels[i]:\n",
    "          color = 'blue'\n",
    "        else:\n",
    "          color = 'red'\n",
    "\n",
    "        plt.xlabel(\"{} {:2.0f}% ({})\".format(class_names[predicted_label],\n",
    "                                      100*np.max(predicted_labels[i]),\n",
    "                                      class_names[true_labels[i]]),\n",
    "                                      color=color)\n",
    "\n",
    "\n",
    "    plt.show()\n",
    "\n",
    "display_images(x_test, test_predictions, y_test)\n",
    "display_images(x_train, train_predictions, y_train)"
   ]
  }
 ],
 "metadata": {
  "colab": {
   "collapsed_sections": [],
   "name": "problemset_MLProject.ipynb",
   "provenance": []
  },
  "kernelspec": {
   "display_name": "Python 3",
   "language": "python",
   "name": "python3"
  },
  "language_info": {
   "codemirror_mode": {
    "name": "ipython",
    "version": 3
   },
   "file_extension": ".py",
   "mimetype": "text/x-python",
   "name": "python",
   "nbconvert_exporter": "python",
   "pygments_lexer": "ipython3",
   "version": "3.6.5"
  }
 },
 "nbformat": 4,
 "nbformat_minor": 2
}
