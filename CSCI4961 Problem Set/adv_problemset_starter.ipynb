{
 "cells": [
  {
   "cell_type": "code",
   "execution_count": null,
   "metadata": {
    "id": "5fxt7Jeubh0h"
   },
   "outputs": [],
   "source": [
    "\n",
    "import tensorflow as tf\n",
    "import keras\n",
    "from keras import layers\n",
    "from keras.datasets import mnist\n",
    "import numpy as np\n",
    "import matplotlib.pyplot as plt"
   ]
  },
  {
   "cell_type": "code",
   "execution_count": null,
   "metadata": {
    "id": "VJ1-rWDubjvC"
   },
   "outputs": [],
   "source": [
    "\n",
    "#define the model\n",
    "model = keras.Sequential([\n",
    "    keras.layers.Flatten(input_shape=(28, 28)),\n",
    "    keras.layers.Dense(128, activation='relu'),\n",
    "    keras.layers.Dense(10),\n",
    "    keras.layers.Softmax()\n",
    "])\n"
   ]
  },
  {
   "cell_type": "code",
   "execution_count": null,
   "metadata": {
    "id": "iuGzt2Iub6P5"
   },
   "outputs": [],
   "source": [
    "# compile the keras model\n",
    "model.compile(optimizer='adam',\n",
    "              loss=keras.losses.SparseCategoricalCrossentropy(from_logits=True),\n",
    "              metrics=['accuracy'])\n",
    "\n"
   ]
  },
  {
   "cell_type": "code",
   "execution_count": null,
   "metadata": {
    "colab": {
     "base_uri": "https://localhost:8080/"
    },
    "id": "_cSPwptbcSV4",
    "outputId": "85793140-f4f6-403d-8da9-c1cb4dae495f"
   },
   "outputs": [],
   "source": [
    "#Extract the MNIST images and labels\n",
    "(x_train, y_train), (x_test, y_test) = mnist.load_data()\n",
    "\n",
    "img_rows, img_cols, channels = 28, 28, 1\n",
    "num_classes = 10\n",
    "\n",
    "x_train = x_train / 255\n",
    "x_test = x_test / 255\n",
    "\n",
    "print(\"Data shapes\", x_test.shape, y_test.shape, x_train.shape, y_train.shape)\n"
   ]
  },
  {
   "cell_type": "code",
   "execution_count": null,
   "metadata": {
    "colab": {
     "base_uri": "https://localhost:8080/"
    },
    "id": "mOcOkc4McUOQ",
    "outputId": "56acc116-8450-4579-a18d-816a122341a8"
   },
   "outputs": [],
   "source": [
    "# fit the keras model on the dataset\n",
    "model.fit(x_train, y_train,\n",
    "          batch_size=32,\n",
    "          epochs=5,\n",
    "          validation_data=(x_test, y_test))\n",
    "\n",
    "# evaluate the keras model\n",
    "train_loss, train_acc = model.evaluate(x_train,  y_train, verbose=2)\n",
    "# evaluate the keras model\n",
    "test_loss, test_acc = model.evaluate(x_test,  y_test, verbose=2)\n",
    "\n",
    "print('\\nTrain accuracy:', train_acc)\n",
    "print('\\nTest accuracy:', test_acc)"
   ]
  },
  {
   "cell_type": "code",
   "execution_count": null,
   "metadata": {
    "id": "JpU15vXrgjb_"
   },
   "outputs": [],
   "source": [
    "\n",
    "test_predictions = model.predict(x_test)\n",
    "train_predictions = model.predict(x_train)"
   ]
  },
  {
   "cell_type": "code",
   "execution_count": null,
   "metadata": {
    "colab": {
     "base_uri": "https://localhost:8080/",
     "height": 295
    },
    "id": "yA7KKHQ9gBnG",
    "outputId": "f7ec45b0-4790-4dc2-b535-243bdebc4c55"
   },
   "outputs": [],
   "source": [
    "class_names = ['Zero','One','Two','Three','Four','Five','Six','Seven','Eight','Nine']\n",
    "\n",
    "\n",
    "def display_images(images, predicted_labels, true_labels):\n",
    "  '''\n",
    "  Display the images in an orderly way that associates it with its predicted and true labels.\n",
    "  :images: the input images\n",
    "  :predicted_labels: the predicted labels from the model\n",
    "  :true_labels: the correct labels\n",
    "  '''\n",
    "  n = 10  # How many digits we will display\n",
    "  plt.figure(figsize=(20, 4))\n",
    "  for i in range(n):\n",
    "      # Display original\n",
    "      ax = plt.subplot(2, n, i + 1)\n",
    "      plt.imshow(images[i].reshape(28, 28))\n",
    "      plt.gray()\n",
    "      ax.get_yaxis().set_visible(False)\n",
    "\n",
    "      predicted_label = np.argmax(predicted_labels[i])\n",
    "\n",
    "      if predicted_label == true_labels[i]:\n",
    "        color = 'blue'\n",
    "      else:\n",
    "        color = 'red'\n",
    "\n",
    "      plt.xlabel(\"{} {:2.0f}% ({})\".format(class_names[predicted_label],\n",
    "                                    100*np.max(predicted_labels[i]),\n",
    "                                    class_names[true_labels[i]]),\n",
    "                                    color=color)\n",
    "\n",
    "\n",
    "  plt.show()\n",
    "\n",
    "display_images(x_test, test_predictions, y_test)\n",
    "display_images(x_train, train_predictions, y_train)"
   ]
  },
  {
   "cell_type": "code",
   "execution_count": null,
   "metadata": {},
   "outputs": [],
   "source": []
  }
 ],
 "metadata": {
  "colab": {
   "collapsed_sections": [],
   "name": "problemset_MLProject.ipynb",
   "provenance": []
  },
  "kernelspec": {
   "name": "python3",
   "display_name": "Python 3.7.9 64-bit",
   "metadata": {
    "interpreter": {
     "hash": "93eb259384ccf2bcbbf5dc67d78e51a41bc3a8a192fd75a7646ba938771272a8"
    }
   }
  },
  "language_info": {
   "codemirror_mode": {
    "name": "ipython",
    "version": 3
   },
   "file_extension": ".py",
   "mimetype": "text/x-python",
   "name": "python",
   "nbconvert_exporter": "python",
   "pygments_lexer": "ipython3",
   "version": "3.7.9-final"
  }
 },
 "nbformat": 4,
 "nbformat_minor": 2
}