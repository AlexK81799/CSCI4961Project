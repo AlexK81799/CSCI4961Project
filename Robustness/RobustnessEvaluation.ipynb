{
 "cells": [
  {
   "cell_type": "code",
   "execution_count": 2,
   "metadata": {
    "id": "r0pdOX07t_2-"
   },
   "outputs": [
    {
     "name": "stdout",
     "output_type": "stream",
     "text": [
      "Collecting robustness\n",
      "  Using cached https://files.pythonhosted.org/packages/6c/5f/3d4cb8f3d02abb3860b3a76c585d2c8307f2ff969dc5cfada57cf363cd7c/robustness-1.2.1.post1-py3-none-any.whl\n",
      "Requirement already satisfied: tqdm in c:\\users\\alexk\\anaconda3\\lib\\site-packages (from robustness) (4.48.2)\n",
      "Requirement already satisfied: psutil in c:\\users\\alexk\\anaconda3\\lib\\site-packages (from robustness) (5.4.5)\n",
      "Requirement already satisfied: grpcio in c:\\users\\alexk\\anaconda3\\lib\\site-packages (from robustness) (1.17.1)\n",
      "Requirement already satisfied: scikit-learn in c:\\users\\alexk\\anaconda3\\lib\\site-packages (from robustness) (0.19.1)\n",
      "Requirement already satisfied: numpy in c:\\users\\alexk\\anaconda3\\lib\\site-packages (from robustness) (1.15.4)\n",
      "Collecting torchvision (from robustness)\n",
      "  Using cached https://files.pythonhosted.org/packages/80/59/ba66ebe892ec8302048434455fb6a9944eb0a78315184f8757094ba95435/torchvision-0.5.0-cp36-cp36m-win_amd64.whl\n",
      "Requirement already satisfied: pandas in c:\\users\\alexk\\anaconda3\\lib\\site-packages (from robustness) (1.1.1)\n",
      "Collecting dill (from robustness)\n",
      "  Using cached https://files.pythonhosted.org/packages/52/d6/79f40d230895fa1ce3b6af0d22e0ac79c65175dc069c194b79cc8e05a033/dill-0.3.3-py2.py3-none-any.whl\n",
      "Collecting tensorboardX (from robustness)\n",
      "  Using cached https://files.pythonhosted.org/packages/af/0c/4f41bcd45db376e6fe5c619c01100e9b7531c55791b7244815bac6eac32c/tensorboardX-2.1-py2.py3-none-any.whl\n",
      "Requirement already satisfied: seaborn in c:\\users\\alexk\\anaconda3\\lib\\site-packages (from robustness) (0.8.1)\n",
      "Requirement already satisfied: gitpython in c:\\users\\alexk\\anaconda3\\lib\\site-packages (from robustness) (3.1.11)\n",
      "Collecting py3nvml (from robustness)\n",
      "  Using cached https://files.pythonhosted.org/packages/53/b3/cb30dd8cc1198ae3fdb5a320ca7986d7ca76e23d16415067eafebff8685f/py3nvml-0.2.6-py3-none-any.whl\n",
      "Requirement already satisfied: scipy in c:\\users\\alexk\\anaconda3\\lib\\site-packages (from robustness) (1.1.0)\n",
      "Requirement already satisfied: tables in c:\\users\\alexk\\anaconda3\\lib\\site-packages (from robustness) (3.4.3)\n",
      "Requirement already satisfied: matplotlib in c:\\users\\alexk\\anaconda3\\lib\\site-packages (from robustness) (2.2.2)\n",
      "Requirement already satisfied: torch in c:\\users\\alexk\\anaconda3\\lib\\site-packages (from robustness) (1.7.0)\n",
      "Requirement already satisfied: GPUtil in c:\\users\\alexk\\anaconda3\\lib\\site-packages (from robustness) (1.4.0)\n",
      "Collecting cox (from robustness)\n",
      "  Using cached https://files.pythonhosted.org/packages/f8/70/757ff7669cfe9f5726c991e856892c4fb98362b1f17abd34326937356729/cox-0.1.post3-py3-none-any.whl\n",
      "Requirement already satisfied: six>=1.5.2 in c:\\users\\alexk\\appdata\\roaming\\python\\python36\\site-packages (from grpcio->robustness) (1.12.0)\n",
      "Requirement already satisfied: pillow>=4.1.1 in c:\\users\\alexk\\anaconda3\\lib\\site-packages (from torchvision->robustness) (5.1.0)\n",
      "Requirement already satisfied: pytz>=2017.2 in c:\\users\\alexk\\anaconda3\\lib\\site-packages (from pandas->robustness) (2018.4)\n",
      "Requirement already satisfied: python-dateutil>=2.7.3 in c:\\users\\alexk\\anaconda3\\lib\\site-packages (from pandas->robustness) (2.7.3)\n",
      "Collecting protobuf>=3.8.0 (from tensorboardX->robustness)\n",
      "  Downloading https://files.pythonhosted.org/packages/32/0e/cf2a34c4429476c607eaa12c5bd85897412daafd7e0997462b72d2c9dc09/protobuf-3.14.0-cp36-cp36m-win_amd64.whl (904kB)\n",
      "Requirement already satisfied: gitdb<5,>=4.0.1 in c:\\users\\alexk\\anaconda3\\lib\\site-packages (from gitpython->robustness) (4.0.5)\n",
      "Collecting xmltodict (from py3nvml->robustness)\n",
      "  Using cached https://files.pythonhosted.org/packages/28/fd/30d5c1d3ac29ce229f6bdc40bbc20b28f716e8b363140c26eff19122d8a5/xmltodict-0.12.0-py2.py3-none-any.whl\n",
      "Requirement already satisfied: numexpr>=2.5.2 in c:\\users\\alexk\\anaconda3\\lib\\site-packages (from tables->robustness) (2.6.5)\n",
      "Requirement already satisfied: cycler>=0.10 in c:\\users\\alexk\\anaconda3\\lib\\site-packages (from matplotlib->robustness) (0.10.0)\n",
      "Requirement already satisfied: pyparsing!=2.0.4,!=2.1.2,!=2.1.6,>=2.0.1 in c:\\users\\alexk\\anaconda3\\lib\\site-packages (from matplotlib->robustness) (2.2.0)\n",
      "Requirement already satisfied: kiwisolver>=1.0.1 in c:\\users\\alexk\\anaconda3\\lib\\site-packages (from matplotlib->robustness) (1.0.1)\n",
      "Collecting future (from torch->robustness)\n",
      "  Downloading https://files.pythonhosted.org/packages/45/0b/38b06fd9b92dc2b68d58b75f900e97884c45bedd2ff83203d933cf5851c9/future-0.18.2.tar.gz (829kB)\n",
      "Requirement already satisfied: typing_extensions in c:\\users\\alexk\\anaconda3\\lib\\site-packages (from torch->robustness) (3.7.4.3)\n",
      "Requirement already satisfied: dataclasses in c:\\users\\alexk\\anaconda3\\lib\\site-packages (from torch->robustness) (0.7)\n",
      "Requirement already satisfied: smmap<4,>=3.0.1 in c:\\users\\alexk\\anaconda3\\lib\\site-packages (from gitdb<5,>=4.0.1->gitpython->robustness) (3.0.4)\n",
      "Requirement already satisfied: setuptools in c:\\users\\alexk\\anaconda3\\lib\\site-packages (from kiwisolver>=1.0.1->matplotlib->robustness) (39.1.0)\n",
      "Building wheels for collected packages: future\n",
      "  Running setup.py bdist_wheel for future: started\n",
      "  Running setup.py bdist_wheel for future: finished with status 'done'\n",
      "  Stored in directory: C:\\Users\\alexk\\AppData\\Local\\pip\\Cache\\wheels\\8b\\99\\a0\\81daf51dcd359a9377b110a8a886b3895921802d2fc1b2397e\n",
      "Successfully built future\n",
      "Installing collected packages: torchvision, dill, protobuf, tensorboardX, xmltodict, py3nvml, cox, robustness, future\n",
      "  Found existing installation: protobuf 3.6.1\n",
      "    Uninstalling protobuf-3.6.1:\n",
      "      Successfully uninstalled protobuf-3.6.1\n",
      "Successfully installed cox-0.1.post3 dill-0.3.3 future-0.18.2 protobuf-3.14.0 py3nvml-0.2.6 robustness-1.2.1.post1 tensorboardX-2.1 torchvision-0.5.0 xmltodict-0.12.0\n"
     ]
    },
    {
     "name": "stderr",
     "output_type": "stream",
     "text": [
      "torchvision 0.5.0 has requirement torch==1.4.0, but you'll have torch 1.7.0 which is incompatible.\n",
      "You are using pip version 18.1, however version 20.3b1 is available.\n",
      "You should consider upgrading via the 'python -m pip install --upgrade pip' command.\n"
     ]
    }
   ],
   "source": [
    "!pip install robustness"
   ]
  },
  {
   "cell_type": "code",
   "execution_count": null,
   "metadata": {},
   "outputs": [],
   "source": []
  },
  {
   "cell_type": "markdown",
   "metadata": {
    "id": "4z6LZsXJvCqD"
   },
   "source": [
    "Here we are doing the imports that will be used. This is following the tutorial from robustness, https://robustness.readthedocs.io/en/latest/example_usage/training_lib_part_1.html. This is intended to replicate the robustness command line tool."
   ]
  },
  {
   "cell_type": "code",
   "execution_count": 1,
   "metadata": {
    "colab": {
     "base_uri": "https://localhost:8080/"
    },
    "id": "YhQEK10nuLbx",
    "outputId": "a4945ae7-497b-4a3a-ddb3-cb3e592fda5a"
   },
   "outputs": [
    {
     "name": "stderr",
     "output_type": "stream",
     "text": [
      "C:\\Users\\alexk\\Anaconda3\\lib\\site-packages\\robustness\\train.py:24: UserWarning: Could not import amp.\n",
      "  warnings.warn('Could not import amp.')\n"
     ]
    }
   ],
   "source": [
    "from robustness.datasets import DATASETS\n",
    "from robustness.model_utils import make_and_restore_model\n",
    "from robustness.train import train_model\n",
    "from robustness.defaults import check_and_fill_args\n",
    "from robustness.tools import constants, helpers\n",
    "from robustness import defaults\n",
    "from robustness import cifar_models"
   ]
  },
  {
   "cell_type": "code",
   "execution_count": 2,
   "metadata": {
    "id": "-fB8OoBWu6Ci"
   },
   "outputs": [],
   "source": [
    "import cox\n",
    "from cox import utils"
   ]
  },
  {
   "cell_type": "code",
   "execution_count": 3,
   "metadata": {
    "id": "ns6xBXl2u9hm"
   },
   "outputs": [],
   "source": [
    "import torch as ch\n",
    "from argparse import ArgumentParser\n",
    "import os"
   ]
  },
  {
   "cell_type": "markdown",
   "metadata": {
    "id": "MeXDV1xaywFV"
   },
   "source": [
    "When we create this as a .py script, we use argparser to pass in params that we would want to change, but here as we have this set up in a python notebook we will have hardcoded params here."
   ]
  },
  {
   "cell_type": "code",
   "execution_count": 4,
   "metadata": {
    "id": "4cVMhDrMu_sA"
   },
   "outputs": [],
   "source": [
    "# parser = ArgumentParser()\n",
    "# parser = defaults.add_args_to_parser(defaults.MODEL_LOADER_ARGS, parser)\n",
    "# parser = defaults.add_args_to_parser(defaults.TRAINING_ARGS, parser)\n",
    "# parser = defaults.add_args_to_parser(defaults.PGD_ARGS, parser)\n",
    "# # Add extra arguments here\n",
    "# args = parser.parse_args()\n",
    "\n",
    "# assert args.dataset is not None, \"Must provide a dataset\"\n",
    "# ds_class = DATASETS[args.dataset]\n",
    "\n",
    "# args = check_and_fill_args(args, defaults.TRAINING_ARGS, ds_class)\n",
    "# if args.adv_train or args.adv_eval:\n",
    "#     args = check_and_fill_args(args, defaults.PGD_ARGS, ds_class)\n",
    "# args = check_and_fill_args(args, defaults.MODEL_LOADER_ARGS, ds_class)"
   ]
  },
  {
   "cell_type": "code",
   "execution_count": 5,
   "metadata": {
    "id": "iO-ko1xV0QmO"
   },
   "outputs": [],
   "source": [
    "train_kwargs = {\n",
    "    'out_dir': \"train_out\",\n",
    "    'adv_train': 1,\n",
    "    'constraint': '2',\n",
    "    'eps': 0.5,\n",
    "    'attack_lr': 1.5,\n",
    "    'attack_steps': 20,\n",
    "    'dataset': 'cifar',\n",
    "    'data': '/tmp/',\n",
    "    'arch': cifar_models\n",
    "}\n",
    "\n",
    "train_args = utils.Parameters(train_kwargs)\n",
    "\n",
    "assert train_args.dataset is not None, \"Must provide a dataset\"\n",
    "ds_class = DATASETS[train_args.dataset]\n",
    "\n",
    "args = check_and_fill_args(train_args, defaults.TRAINING_ARGS, ds_class)\n",
    "if args.adv_train or args.adv_eval:\n",
    "    args = check_and_fill_args(args, defaults.PGD_ARGS, ds_class)\n",
    "args = check_and_fill_args(args, defaults.MODEL_LOADER_ARGS, ds_class)"
   ]
  },
  {
   "cell_type": "code",
   "execution_count": 6,
   "metadata": {
    "colab": {
     "base_uri": "https://localhost:8080/",
     "height": 408
    },
    "id": "3FjDQ0fQx6AG",
    "outputId": "9bc58998-4c06-4588-f31d-5f610d282b69"
   },
   "outputs": [
    {
     "name": "stdout",
     "output_type": "stream",
     "text": [
      "==> Preparing dataset cifar..\n",
      "Files already downloaded and verified\n",
      "Files already downloaded and verified\n"
     ]
    }
   ],
   "source": [
    "# Load up the dataset\n",
    "data_path = os.path.expandvars(args.data)\n",
    "dataset = DATASETS[args.dataset](data_path)\n",
    "\n",
    "# Make the data loaders\n",
    "train_loader, val_loader = dataset.make_loaders(args.workers,\n",
    "              args.batch_size, data_aug=bool(args.data_aug))\n",
    "\n",
    "# Prefetches data to improve performance\n",
    "train_loader = helpers.DataPrefetcher(train_loader)\n",
    "val_loader = helpers.DataPrefetcher(val_loader)"
   ]
  },
  {
   "cell_type": "code",
   "execution_count": 7,
   "metadata": {
    "id": "uCyEg0hnFT58"
   },
   "outputs": [],
   "source": [
    "model, _ = make_and_restore_model(arch=args.arch, dataset=dataset)"
   ]
  },
  {
   "cell_type": "code",
   "execution_count": 8,
   "metadata": {
    "id": "2oe3BaCHFXnn"
   },
   "outputs": [
    {
     "name": "stdout",
     "output_type": "stream",
     "text": [
      "Logging in: C:\\Users\\alexk\\Dropbox\\CSCI-4961\\CSCI4961Project\\train_out\\8b8aec02-c3a2-4a09-871c-baba2e463e9b\n"
     ]
    },
    {
     "ename": "ValueError",
     "evalue": "optimizer got an empty parameter list",
     "output_type": "error",
     "traceback": [
      "\u001b[1;31m---------------------------------------------------------------------------\u001b[0m",
      "\u001b[1;31mValueError\u001b[0m                                Traceback (most recent call last)",
      "\u001b[1;32m<ipython-input-8-12dd868e3143>\u001b[0m in \u001b[0;36m<module>\u001b[1;34m()\u001b[0m\n\u001b[0;32m      5\u001b[0m \u001b[0mstore\u001b[0m\u001b[1;33m.\u001b[0m\u001b[0madd_table\u001b[0m\u001b[1;33m(\u001b[0m\u001b[1;34m'metadata'\u001b[0m\u001b[1;33m,\u001b[0m \u001b[0mschema\u001b[0m\u001b[1;33m)\u001b[0m\u001b[1;33m\u001b[0m\u001b[0m\n\u001b[0;32m      6\u001b[0m \u001b[0mstore\u001b[0m\u001b[1;33m[\u001b[0m\u001b[1;34m'metadata'\u001b[0m\u001b[1;33m]\u001b[0m\u001b[1;33m.\u001b[0m\u001b[0mappend_row\u001b[0m\u001b[1;33m(\u001b[0m\u001b[0margs_dict\u001b[0m\u001b[1;33m)\u001b[0m\u001b[1;33m\u001b[0m\u001b[0m\n\u001b[1;32m----> 7\u001b[1;33m \u001b[0mmodel\u001b[0m \u001b[1;33m=\u001b[0m \u001b[0mtrain_model\u001b[0m\u001b[1;33m(\u001b[0m\u001b[0margs\u001b[0m\u001b[1;33m,\u001b[0m \u001b[0mmodel\u001b[0m\u001b[1;33m,\u001b[0m \u001b[1;33m(\u001b[0m\u001b[0mtrain_loader\u001b[0m\u001b[1;33m,\u001b[0m \u001b[0mval_loader\u001b[0m\u001b[1;33m)\u001b[0m\u001b[1;33m,\u001b[0m \u001b[0mstore\u001b[0m\u001b[1;33m=\u001b[0m\u001b[0mstore\u001b[0m\u001b[1;33m)\u001b[0m\u001b[1;33m\u001b[0m\u001b[0m\n\u001b[0m",
      "\u001b[1;32m~\\Anaconda3\\lib\\site-packages\\robustness\\train.py\u001b[0m in \u001b[0;36mtrain_model\u001b[1;34m(args, model, loaders, checkpoint, store, update_params, disable_no_grad)\u001b[0m\n\u001b[0;32m    290\u001b[0m     \u001b[1;31m# Initial setup\u001b[0m\u001b[1;33m\u001b[0m\u001b[1;33m\u001b[0m\u001b[0m\n\u001b[0;32m    291\u001b[0m     \u001b[0mtrain_loader\u001b[0m\u001b[1;33m,\u001b[0m \u001b[0mval_loader\u001b[0m \u001b[1;33m=\u001b[0m \u001b[0mloaders\u001b[0m\u001b[1;33m\u001b[0m\u001b[0m\n\u001b[1;32m--> 292\u001b[1;33m     \u001b[0mopt\u001b[0m\u001b[1;33m,\u001b[0m \u001b[0mschedule\u001b[0m \u001b[1;33m=\u001b[0m \u001b[0mmake_optimizer_and_schedule\u001b[0m\u001b[1;33m(\u001b[0m\u001b[0margs\u001b[0m\u001b[1;33m,\u001b[0m \u001b[0mmodel\u001b[0m\u001b[1;33m,\u001b[0m \u001b[0mcheckpoint\u001b[0m\u001b[1;33m,\u001b[0m \u001b[0mupdate_params\u001b[0m\u001b[1;33m)\u001b[0m\u001b[1;33m\u001b[0m\u001b[0m\n\u001b[0m\u001b[0;32m    293\u001b[0m \u001b[1;33m\u001b[0m\u001b[0m\n\u001b[0;32m    294\u001b[0m     \u001b[1;31m# Put the model into parallel mode\u001b[0m\u001b[1;33m\u001b[0m\u001b[1;33m\u001b[0m\u001b[0m\n",
      "\u001b[1;32m~\\Anaconda3\\lib\\site-packages\\robustness\\train.py\u001b[0m in \u001b[0;36mmake_optimizer_and_schedule\u001b[1;34m(args, model, checkpoint, params)\u001b[0m\n\u001b[0;32m     81\u001b[0m     \u001b[0mparam_list\u001b[0m \u001b[1;33m=\u001b[0m \u001b[0mmodel\u001b[0m\u001b[1;33m.\u001b[0m\u001b[0mparameters\u001b[0m\u001b[1;33m(\u001b[0m\u001b[1;33m)\u001b[0m \u001b[1;32mif\u001b[0m \u001b[0mparams\u001b[0m \u001b[1;32mis\u001b[0m \u001b[1;32mNone\u001b[0m \u001b[1;32melse\u001b[0m \u001b[0mparams\u001b[0m\u001b[1;33m\u001b[0m\u001b[0m\n\u001b[0;32m     82\u001b[0m     optimizer = SGD(param_list, args.lr, momentum=args.momentum,\n\u001b[1;32m---> 83\u001b[1;33m                                 weight_decay=args.weight_decay)\n\u001b[0m\u001b[0;32m     84\u001b[0m \u001b[1;33m\u001b[0m\u001b[0m\n\u001b[0;32m     85\u001b[0m     \u001b[1;32mif\u001b[0m \u001b[0margs\u001b[0m\u001b[1;33m.\u001b[0m\u001b[0mmixed_precision\u001b[0m\u001b[1;33m:\u001b[0m\u001b[1;33m\u001b[0m\u001b[0m\n",
      "\u001b[1;32m~\\Anaconda3\\lib\\site-packages\\torch\\optim\\sgd.py\u001b[0m in \u001b[0;36m__init__\u001b[1;34m(self, params, lr, momentum, dampening, weight_decay, nesterov)\u001b[0m\n\u001b[0;32m     66\u001b[0m         \u001b[1;32mif\u001b[0m \u001b[0mnesterov\u001b[0m \u001b[1;32mand\u001b[0m \u001b[1;33m(\u001b[0m\u001b[0mmomentum\u001b[0m \u001b[1;33m<=\u001b[0m \u001b[1;36m0\u001b[0m \u001b[1;32mor\u001b[0m \u001b[0mdampening\u001b[0m \u001b[1;33m!=\u001b[0m \u001b[1;36m0\u001b[0m\u001b[1;33m)\u001b[0m\u001b[1;33m:\u001b[0m\u001b[1;33m\u001b[0m\u001b[0m\n\u001b[0;32m     67\u001b[0m             \u001b[1;32mraise\u001b[0m \u001b[0mValueError\u001b[0m\u001b[1;33m(\u001b[0m\u001b[1;34m\"Nesterov momentum requires a momentum and zero dampening\"\u001b[0m\u001b[1;33m)\u001b[0m\u001b[1;33m\u001b[0m\u001b[0m\n\u001b[1;32m---> 68\u001b[1;33m         \u001b[0msuper\u001b[0m\u001b[1;33m(\u001b[0m\u001b[0mSGD\u001b[0m\u001b[1;33m,\u001b[0m \u001b[0mself\u001b[0m\u001b[1;33m)\u001b[0m\u001b[1;33m.\u001b[0m\u001b[0m__init__\u001b[0m\u001b[1;33m(\u001b[0m\u001b[0mparams\u001b[0m\u001b[1;33m,\u001b[0m \u001b[0mdefaults\u001b[0m\u001b[1;33m)\u001b[0m\u001b[1;33m\u001b[0m\u001b[0m\n\u001b[0m\u001b[0;32m     69\u001b[0m \u001b[1;33m\u001b[0m\u001b[0m\n\u001b[0;32m     70\u001b[0m     \u001b[1;32mdef\u001b[0m \u001b[0m__setstate__\u001b[0m\u001b[1;33m(\u001b[0m\u001b[0mself\u001b[0m\u001b[1;33m,\u001b[0m \u001b[0mstate\u001b[0m\u001b[1;33m)\u001b[0m\u001b[1;33m:\u001b[0m\u001b[1;33m\u001b[0m\u001b[0m\n",
      "\u001b[1;32m~\\Anaconda3\\lib\\site-packages\\torch\\optim\\optimizer.py\u001b[0m in \u001b[0;36m__init__\u001b[1;34m(self, params, defaults)\u001b[0m\n\u001b[0;32m     45\u001b[0m         \u001b[0mparam_groups\u001b[0m \u001b[1;33m=\u001b[0m \u001b[0mlist\u001b[0m\u001b[1;33m(\u001b[0m\u001b[0mparams\u001b[0m\u001b[1;33m)\u001b[0m\u001b[1;33m\u001b[0m\u001b[0m\n\u001b[0;32m     46\u001b[0m         \u001b[1;32mif\u001b[0m \u001b[0mlen\u001b[0m\u001b[1;33m(\u001b[0m\u001b[0mparam_groups\u001b[0m\u001b[1;33m)\u001b[0m \u001b[1;33m==\u001b[0m \u001b[1;36m0\u001b[0m\u001b[1;33m:\u001b[0m\u001b[1;33m\u001b[0m\u001b[0m\n\u001b[1;32m---> 47\u001b[1;33m             \u001b[1;32mraise\u001b[0m \u001b[0mValueError\u001b[0m\u001b[1;33m(\u001b[0m\u001b[1;34m\"optimizer got an empty parameter list\"\u001b[0m\u001b[1;33m)\u001b[0m\u001b[1;33m\u001b[0m\u001b[0m\n\u001b[0m\u001b[0;32m     48\u001b[0m         \u001b[1;32mif\u001b[0m \u001b[1;32mnot\u001b[0m \u001b[0misinstance\u001b[0m\u001b[1;33m(\u001b[0m\u001b[0mparam_groups\u001b[0m\u001b[1;33m[\u001b[0m\u001b[1;36m0\u001b[0m\u001b[1;33m]\u001b[0m\u001b[1;33m,\u001b[0m \u001b[0mdict\u001b[0m\u001b[1;33m)\u001b[0m\u001b[1;33m:\u001b[0m\u001b[1;33m\u001b[0m\u001b[0m\n\u001b[0;32m     49\u001b[0m             \u001b[0mparam_groups\u001b[0m \u001b[1;33m=\u001b[0m \u001b[1;33m[\u001b[0m\u001b[1;33m{\u001b[0m\u001b[1;34m'params'\u001b[0m\u001b[1;33m:\u001b[0m \u001b[0mparam_groups\u001b[0m\u001b[1;33m}\u001b[0m\u001b[1;33m]\u001b[0m\u001b[1;33m\u001b[0m\u001b[0m\n",
      "\u001b[1;31mValueError\u001b[0m: optimizer got an empty parameter list"
     ]
    }
   ],
   "source": [
    "# Create the cox store, and save the arguments in a table\n",
    "store = cox.store.Store(args.out_dir, args.exp_name)\n",
    "args_dict = args.as_dict() if isinstance(args, utils.Parameters) else vars(args)\n",
    "schema = cox.store.schema_from_dict(args_dict)\n",
    "store.add_table('metadata', schema)\n",
    "store['metadata'].append_row(args_dict)\n",
    "model = train_model(args, model, (train_loader, val_loader), store=store)"
   ]
  },
  {
   "cell_type": "code",
   "execution_count": null,
   "metadata": {},
   "outputs": [],
   "source": []
  },
  {
   "cell_type": "code",
   "execution_count": null,
   "metadata": {},
   "outputs": [],
   "source": []
  }
 ],
 "metadata": {
  "colab": {
   "collapsed_sections": [],
   "name": "RobustnessEvaluation.ipynb",
   "provenance": [],
   "toc_visible": true
  },
  "kernelspec": {
   "display_name": "Python 3",
   "language": "python",
   "name": "python3"
  },
  "language_info": {
   "codemirror_mode": {
    "name": "ipython",
    "version": 3
   },
   "file_extension": ".py",
   "mimetype": "text/x-python",
   "name": "python",
   "nbconvert_exporter": "python",
   "pygments_lexer": "ipython3",
   "version": "3.6.5"
  }
 },
 "nbformat": 4,
 "nbformat_minor": 2
}
